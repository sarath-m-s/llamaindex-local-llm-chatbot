{
 "cells": [
  {
   "cell_type": "code",
   "execution_count": 1,
   "metadata": {},
   "outputs": [],
   "source": [
    "%%capture\n",
    "! pip install llama-index-core llama-index llama-index-llms-lmstudio"
   ]
  },
  {
   "cell_type": "code",
   "execution_count": 2,
   "metadata": {},
   "outputs": [],
   "source": [
    "%%capture\n",
    "! pip install llama-index-core llama-index llama-index-llms-lmstudio"
   ]
  },
  {
   "cell_type": "code",
   "execution_count": 3,
   "metadata": {},
   "outputs": [],
   "source": [
    "import nest_asyncio\n",
    "\n",
    "nest_asyncio.apply()"
   ]
  },
  {
   "cell_type": "code",
   "execution_count": 4,
   "metadata": {},
   "outputs": [],
   "source": [
    "from llama_index.llms.lmstudio import LMStudio\n",
    "from llama_index.core.base.llms.types import ChatMessage, MessageRole"
   ]
  },
  {
   "cell_type": "code",
   "execution_count": 5,
   "metadata": {},
   "outputs": [],
   "source": [
    "llm = LMStudio(\n",
    "    model_name=\"lmstudio-community/Meta-Llama-3.1-8B-Instruct-GGUF\", #model hosted on LM Studio\n",
    "    base_url=\"http://localhost:1234/v1\",\n",
    "    temperature=0.7,\n",
    ")"
   ]
  },
  {
   "cell_type": "code",
   "execution_count": 6,
   "metadata": {},
   "outputs": [],
   "source": [
    "messages = [\n",
    "    ChatMessage(\n",
    "        role=MessageRole.SYSTEM,\n",
    "        content=\"You an expert AI assistant. Help User with their queries.\",\n",
    "    ),\n",
    "    ChatMessage(\n",
    "        role=MessageRole.USER,\n",
    "        content=\"What is the significance of the number 42?\",\n",
    "    ),\n",
    "]"
   ]
  },
  {
   "cell_type": "code",
   "execution_count": 7,
   "metadata": {},
   "outputs": [
    {
     "name": "stdout",
     "output_type": "stream",
     "text": [
      "The infamous number 42!\n",
      "\n",
      "In popular culture, the number 42 has become a kind of meme and a symbol of \"the answer to life's greatest mystery.\" But its origins are actually quite interesting.\n",
      "\n",
      "The concept of 42 as the \"answer\" comes from Douglas Adams' science fiction series \"The Hitchhiker's Guide to the Galaxy,\" published in 1979. In the book, a supercomputer named Deep Thought is asked to find the meaning of life, and after 7.5 million years of calculations, it reveals that the answer is... 42!\n",
      "\n",
      "However, this raises another question: what does 42 actually mean? Adams himself never fully explained the significance of the number, leaving it open to interpretation.\n",
      "\n",
      "Over time, people have come up with various theories and humorous explanations for why 42 might be the \"answer.\" Some examples include:\n",
      "\n",
      "* In base 13, 6 times 9 is 54, but in base 10, 6 times 9 is 54. So, if you subtract 1 from each side of this equation (i.e., subtracting one dimension), you get the answer 42!\n",
      "* The number 42 has some interesting mathematical properties. For example, it's a highly composite number that can be divided by many different factors.\n",
      "* In numerology, 4 and 2 are often associated with stability, balance, and harmony.\n",
      "\n",
      "While these explanations are amusing, it's worth noting that the significance of 42 is largely subjective and open to interpretation. Perhaps its true meaning lies in the absurdity and playfulness of Douglas Adams' original story!\n",
      "\n",
      "Would you like to explore more theories or discuss the cultural impact of \"The Hitchhiker's Guide to the Galaxy\"?"
     ]
    }
   ],
   "source": [
    "response = llm.stream_chat(messages=messages)\n",
    "for r in response:\n",
    "    print(r.delta, end=\"\")"
   ]
  }
 ],
 "metadata": {
  "kernelspec": {
   "display_name": "Python 3",
   "language": "python",
   "name": "python3"
  },
  "language_info": {
   "codemirror_mode": {
    "name": "ipython",
    "version": 3
   },
   "file_extension": ".py",
   "mimetype": "text/x-python",
   "name": "python",
   "nbconvert_exporter": "python",
   "pygments_lexer": "ipython3",
   "version": "3.10.11"
  }
 },
 "nbformat": 4,
 "nbformat_minor": 2
}
